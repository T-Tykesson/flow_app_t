{
 "cells": [
  {
   "cell_type": "code",
   "execution_count": null,
   "id": "80fad0bb-c371-4bcf-b1f2-f5af281e8813",
   "metadata": {},
   "outputs": [],
   "source": [
    "!pip install -r requirements.txt"
   ]
  },
  {
   "cell_type": "code",
   "execution_count": null,
   "id": "3ee29d26-c6fb-4dba-b461-7de9433f1398",
   "metadata": {},
   "outputs": [],
   "source": [
    "!panel serve app.py --allow-websocket-origin=* --port 5000 --address 0.0.0.0 --basic-auth credentials.json --logout-template templates/login.html --basic-login-template templates/login.html --cookie-secret my_super_safe_cookie_secret"
   ]
  },
  {
   "cell_type": "code",
   "execution_count": null,
   "id": "4e7ec546-f85a-43dc-9736-5ce0aef62e8f",
   "metadata": {},
   "outputs": [
    {
     "name": "stdout",
     "output_type": "stream",
     "text": [
      "2024-05-21 06:55:18,764 Starting Bokeh server version 3.4.1 (running on Tornado 6.3.3)\n",
      "2024-05-21 06:55:18,766 User authentication hooks provided (no default user)\n",
      "2024-05-21 06:55:18,770 Bokeh app running at: http://0.0.0.0:5000/app\n",
      "2024-05-21 06:55:18,770 Starting Bokeh server with process id: 37766\n",
      "2024-05-21 06:55:29,616 WebSocket connection opened\n",
      "2024-05-21 06:55:29,616 ServerConnection created\n",
      "<IPython.core.display.HTML object>\n",
      "2024-05-21 06:55:55,358 WebSocket connection closed: code=1001, reason=None\n",
      "2024-05-21 06:56:04,690 WebSocket connection opened\n",
      "2024-05-21 06:56:04,691 ServerConnection created\n",
      "2024-05-21 06:56:06,085 WebSocket connection closed: code=1001, reason=None\n",
      "2024-05-21 07:09:42,446 WebSocket connection opened\n",
      "2024-05-21 07:09:42,448 ServerConnection created\n",
      "<IPython.core.display.HTML object>\n",
      "2024-05-21 11:24:42,509 WebSocket connection opened\n",
      "2024-05-21 11:24:42,509 ServerConnection created\n",
      "2024-05-21 11:39:52,703 WebSocket connection closed: code=None, reason=None\n"
     ]
    }
   ],
   "source": [
    "!panel serve app.py --allow-websocket-origin=\"t-app1-560ip-berakning-test.apps.ocpint.gbgpaas.se\" --port 5000 --address 0.0.0.0 --basic-auth credentials.json --logout-template templates/login.html --basic-login-template templates/login.html --cookie-secret my_super_safe_cookie_secret"
   ]
  },
  {
   "cell_type": "code",
   "execution_count": null,
   "id": "99f00a49-842a-48f3-ad78-9fafa7190904",
   "metadata": {},
   "outputs": [],
   "source": [
    "# tidigare dependencies\n",
    "#!pip install panel bokeh==3.3.4 ipython-sql openpyxl folium psycopg2\n",
    "#!pip install panel>=0.12.6 param>=1.12.0 pandas matplotlib"
   ]
  }
 ],
 "metadata": {
  "kernelspec": {
   "display_name": "Python 3.9",
   "language": "python",
   "name": "python3"
  },
  "language_info": {
   "codemirror_mode": {
    "name": "ipython",
    "version": 3
   },
   "file_extension": ".py",
   "mimetype": "text/x-python",
   "name": "python",
   "nbconvert_exporter": "python",
   "pygments_lexer": "ipython3",
   "version": "3.9.16"
  }
 },
 "nbformat": 4,
 "nbformat_minor": 5
}
